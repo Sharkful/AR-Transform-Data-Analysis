{
 "cells": [
  {
   "cell_type": "code",
   "execution_count": 24,
   "metadata": {},
   "outputs": [],
   "source": [
    "using DataFrames, CSV, Rotations, GeometryBasics"
   ]
  },
  {
   "attachments": {},
   "cell_type": "markdown",
   "metadata": {},
   "source": [
    "## Load Transforms"
   ]
  },
  {
   "cell_type": "code",
   "execution_count": 2,
   "metadata": {},
   "outputs": [],
   "source": [
    "# Create the dict to map user_id to transform dataframe\n",
    "transforms = Dict()\n",
    "\n",
    "# Load the transforms\n",
    "for filename in readdir(raw\"..\\Data\\Dataframes\\Transforms\", join=true)\n",
    "    # Get the dataframe from the file\n",
    "    df = DataFrame(CSV.File(filename))\n",
    "    # Get the id of the user\n",
    "    id = parse(Int, match(r\"(\\d{2,3})_transforms.csv$\", filename)[1])\n",
    "    # Store dataframe into dictionary\n",
    "    transforms[id] = df\n",
    "end"
   ]
  },
  {
   "cell_type": "code",
   "execution_count": 7,
   "metadata": {},
   "outputs": [
    {
     "name": "stdout",
     "output_type": "stream",
     "text": [
      "\u001b[1m13533×14 DataFrame\u001b[0m\n",
      "\u001b[1m   Row \u001b[0m│\u001b[1m c_pos_x     \u001b[0m\u001b[1m c_pos_y     \u001b[0m\u001b[1m c_pos_z      \u001b[0m\u001b[1m c_rot_x     \u001b[0m\u001b[1m c_rot_y     \u001b[0m\u001b[1m c_r\u001b[0m ⋯\n",
      "       │\u001b[90m Float64     \u001b[0m\u001b[90m Float64     \u001b[0m\u001b[90m Float64      \u001b[0m\u001b[90m Float64     \u001b[0m\u001b[90m Float64     \u001b[0m\u001b[90m Flo\u001b[0m ⋯\n",
      "───────┼────────────────────────────────────────────────────────────────────────\n",
      "     1 │  3.82586      3.62586      0.0           0.0          0.0         -0. ⋯\n",
      "     2 │ -0.0          1.0          0.000890538   0.082156    -0.329123     0.\n",
      "     3 │  0.111715    -0.0586747   -0.988158      0.0145977    0.0794296   -0.\n",
      "     4 │ -0.0852581    0.11534     -0.0588556    -0.987909     0.00155286   0.\n",
      "     5 │ -0.0343132   -0.0806783    0.117827     -0.058851    -0.988        0. ⋯\n",
      "     6 │ -0.0156151   -0.034185    -0.0786815     0.114219    -0.0563988   -0.\n",
      "     7 │ -0.0226061   -0.0146794   -0.0340413    -0.0761304    0.110792    -0.\n",
      "     8 │  0.983151    -0.0214697   -0.0141649    -0.0351364   -0.0748463    0.\n",
      "   ⋮   │      ⋮            ⋮            ⋮             ⋮            ⋮           ⋱\n",
      " 13527 │ -0.0493905    0.050161     0.0554647     0.064166     0.995133    -0. ⋯\n",
      " 13528 │ -0.290108    -0.0644814   -0.0127239     0.102631     0.0446787    0.\n",
      " 13529 │ -0.685783    -0.279827    -0.076877     -0.058156     0.0322268    0.\n",
      " 13530 │  0.0160645   -0.676446    -0.279099     -0.0741129   -0.0522148    0.\n",
      " 13531 │ -0.995965     0.0160645   -0.671895     -0.277174    -0.0745029   -0. ⋯\n",
      " 13532 │  0.0411994   -0.998985     0.0163086    -0.679046    -0.276117    -0.\n",
      " 13533 │ -0.00541302   0.0401801   -0.99912       0.0116699   -0.678504    -0.\n",
      "\u001b[36m                                                9 columns and 13518 rows omitted\u001b[0m"
     ]
    }
   ],
   "source": [
    "show(transforms[102])"
   ]
  },
  {
   "attachments": {},
   "cell_type": "markdown",
   "metadata": {},
   "source": [
    "## Process data\n",
    "Condense position coords into single Point3f columns\n",
    "\n",
    "Condense quaternion components into single quaternion column, also handle handedness"
   ]
  },
  {
   "cell_type": "code",
   "execution_count": 27,
   "metadata": {},
   "outputs": [
    {
     "data": {
      "text/html": [
       "<div><div style = \"float: left;\"><span>412×4 DataFrame</span></div><div style = \"float: right;\"><span style = \"font-style: italic;\">387 rows omitted</span></div><div style = \"clear: both;\"></div></div><div class = \"data-frame\" style = \"overflow-x: scroll;\"><table class = \"data-frame\" style = \"margin-bottom: 6px;\"><thead><tr class = \"header\"><th class = \"rowNumber\" style = \"font-weight: bold; text-align: right;\">Row</th><th style = \"text-align: left;\">head_position</th><th style = \"text-align: left;\">head_orientation</th><th style = \"text-align: left;\">cntr_position</th><th style = \"text-align: left;\">cntr_orientation</th></tr><tr class = \"subheader headerLastRow\"><th class = \"rowNumber\" style = \"font-weight: bold; text-align: right;\"></th><th title = \"Point{3, Float32}\" style = \"text-align: left;\">Point…</th><th title = \"QuatRotation{Float64}\" style = \"text-align: left;\">QuatRota…</th><th title = \"Point{3, Float32}\" style = \"text-align: left;\">Point…</th><th title = \"QuatRotation{Float64}\" style = \"text-align: left;\">QuatRota…</th></tr></thead><tbody><tr><td class = \"rowNumber\" style = \"font-weight: bold; text-align: right;\">1</td><td style = \"text-align: left;\">Float32[-0.0, 1.0, 0.0]</td><td style = \"text-align: left;\">[0.0 0.0 0.0; -0.0 0.0 0.0; 0.0 -0.0 0.0]</td><td style = \"text-align: left;\">Float32[3.82827, 3.62827, 0.0]</td><td style = \"text-align: left;\">[0.0 0.0 0.0; -0.0 0.0 0.0; 0.0 -0.0 0.0]</td></tr><tr><td class = \"rowNumber\" style = \"font-weight: bold; text-align: right;\">2</td><td style = \"text-align: left;\">Float32[-0.205649, 0.626851, 0.749204]</td><td style = \"text-align: left;\">[0.869867 -0.462285 0.172117; 0.210676 0.663656 0.717758; -0.446035 -0.588093 0.674685]</td><td style = \"text-align: left;\">Float32[-0.0, 1.0, 0.00109844]</td><td style = \"text-align: left;\">[-0.988832 -0.148602 -0.0113507; 0.136542 -0.872785 -0.468617; 0.0597308 -0.464933 0.883328]</td></tr><tr><td class = \"rowNumber\" style = \"font-weight: bold; text-align: right;\">3</td><td style = \"text-align: left;\">Float32[-0.0588141, -0.205649, 0.626851]</td><td style = \"text-align: left;\">[0.990145 -0.0632864 0.124934; -0.0703684 -0.996106 0.0531071; 0.121086 -0.0613751 -0.990743]</td><td style = \"text-align: left;\">Float32[0.104904, 0.0400868, -0.986772]</td><td style = \"text-align: left;\">[-0.883005 0.00494665 -0.469337; -0.00717949 0.999685 0.0240438; 0.469308 0.0246004 -0.882692]</td></tr><tr><td class = \"rowNumber\" style = \"font-weight: bold; text-align: right;\">4</td><td style = \"text-align: left;\">Float32[0.192555, -0.0588141, -0.205649]</td><td style = \"text-align: left;\">[-0.17743 0.0993626 0.979105; 0.0199419 -0.994323 0.104521; 0.983931 0.0380703 0.174441]</td><td style = \"text-align: left;\">Float32[-0.1181, 0.105502, 0.0403461]</td><td style = \"text-align: left;\">[0.999527 0.0287475 -0.0108849; -0.00367039 -0.239956 -0.970777; -0.0305193 0.970358 -0.239737]</td></tr><tr><td class = \"rowNumber\" style = \"font-weight: bold; text-align: right;\">5</td><td style = \"text-align: left;\">Float32[-0.772436, 0.192555, -0.0588141]</td><td style = \"text-align: left;\">[-0.911205 -0.365333 -0.190361; -0.251833 0.128298 0.959229; -0.326015 0.921993 -0.208908]</td><td style = \"text-align: left;\">Float32[-0.0215214, -0.118967, 0.106582]</td><td style = \"text-align: left;\">[-0.996598 -0.0188537 -0.0802363; 0.0215333 -0.999234 -0.0326639; -0.079559 -0.0342805 0.996241]</td></tr><tr><td class = \"rowNumber\" style = \"font-weight: bold; text-align: right;\">6</td><td style = \"text-align: left;\">Float32[-0.00997893, -0.772436, 0.192555]</td><td style = \"text-align: left;\">[0.129532 0.234411 0.963469; -0.381881 0.908499 -0.169695; -0.915089 -0.34595 0.207197]</td><td style = \"text-align: left;\">Float32[-0.0251266, -0.022235, -0.117863]</td><td style = \"text-align: left;\">[-0.88733 -0.21828 -0.406202; -0.185256 0.975401 -0.119466; 0.422287 -0.0307548 -0.90594]</td></tr><tr><td class = \"rowNumber\" style = \"font-weight: bold; text-align: right;\">7</td><td style = \"text-align: left;\">Float32[0.0161283, 0.0295338, -0.335227]</td><td style = \"text-align: left;\">[-0.497384 -0.520597 0.693966; 0.261298 0.672885 0.692061; -0.827244 0.525552 -0.198651]</td><td style = \"text-align: left;\">Float32[0.0373564, -0.0192985, -0.031811]</td><td style = \"text-align: left;\">[0.990409 0.110732 -0.0826378; -0.124422 0.974844 -0.184927; 0.0600815 0.193435 0.979272]</td></tr><tr><td class = \"rowNumber\" style = \"font-weight: bold; text-align: right;\">8</td><td style = \"text-align: left;\">Float32[-0.992906, 0.0167115, 0.0194246]</td><td style = \"text-align: left;\">[0.573892 0.386857 0.721796; 0.352064 0.679233 -0.643967; -0.739391 0.623686 0.253608]</td><td style = \"text-align: left;\">Float32[0.698916, 0.0364127, -0.0190458]</td><td style = \"text-align: left;\">[-0.694271 0.202438 0.690657; -0.711224 -0.339941 -0.615306; 0.110221 -0.9184 0.37999]</td></tr><tr><td class = \"rowNumber\" style = \"font-weight: bold; text-align: right;\">9</td><td style = \"text-align: left;\">Float32[0.0367144, -0.992671, 0.0165761]</td><td style = \"text-align: left;\">[0.148039 -0.983462 -0.104343; 0.988971 0.146731 0.0201497; -0.00450618 -0.106175 0.994337]</td><td style = \"text-align: left;\">Float32[-0.176112, 0.60044, 0.0344072]</td><td style = \"text-align: left;\">[-0.39079 0.522703 -0.757671; -0.0303908 0.81535 0.57817; 0.919978 0.248969 -0.302745]</td></tr><tr><td class = \"rowNumber\" style = \"font-weight: bold; text-align: right;\">10</td><td style = \"text-align: left;\">Float32[0.0659582, 0.035612, -0.992839]</td><td style = \"text-align: left;\">[-0.986754 -0.0114197 -0.161824; 0.0104948 0.990936 -0.133923; 0.161887 -0.133848 -0.97769]</td><td style = \"text-align: left;\">Float32[-0.643997, -0.204554, 0.621112]</td><td style = \"text-align: left;\">[0.767287 -0.488328 0.415699; 0.125327 0.74989 0.649583; -0.628938 -0.446319 0.636582]</td></tr><tr><td class = \"rowNumber\" style = \"font-weight: bold; text-align: right;\">11</td><td style = \"text-align: left;\">Float32[-0.0987635, 0.0736604, 0.0331073]</td><td style = \"text-align: left;\">[0.998469 -0.0327815 -0.0445551; -0.0530082 -0.797244 -0.601325; -0.0158089 0.602766 -0.797761]</td><td style = \"text-align: left;\">Float32[-0.359793, -0.630104, -0.27919]</td><td style = \"text-align: left;\">[0.993665 -0.0566504 0.0970625; -0.0650738 -0.994173 0.0859365; 0.0916286 -0.0917083 -0.991561]</td></tr><tr><td class = \"rowNumber\" style = \"font-weight: bold; text-align: right;\">12</td><td style = \"text-align: left;\">Float32[-0.023997, -0.152608, 0.0898464]</td><td style = \"text-align: left;\">[-0.99724 0.0464621 -0.0579172; -0.0444716 -0.99839 -0.0351962; -0.0594593 -0.0325233 0.997701]</td><td style = \"text-align: left;\">Float32[0.0126972, -0.408522, -0.659186]</td><td style = \"text-align: left;\">[-0.789097 0.0594926 -0.611381; -0.108853 -0.99309 0.0438582; -0.604547 0.101159 0.79012]</td></tr><tr><td class = \"rowNumber\" style = \"font-weight: bold; text-align: right;\">13</td><td style = \"text-align: left;\">Float32[-0.0296031, -0.0215113, -0.162677]</td><td style = \"text-align: left;\">[-0.980209 -0.197926 0.00390543; -0.197926 0.979437 -0.0390829; 0.00391041 -0.0390824 -0.999228]</td><td style = \"text-align: left;\">Float32[-0.332537, 0.0115229, -0.40929]</td><td style = \"text-align: left;\">[0.0384638 -0.93551 0.3512; -0.955703 -0.137076 -0.260466; 0.291809 -0.325624 -0.899342]</td></tr><tr><td style = \"text-align: right;\">&vellip;</td><td style = \"text-align: right;\">&vellip;</td><td style = \"text-align: right;\">&vellip;</td><td style = \"text-align: right;\">&vellip;</td><td style = \"text-align: right;\">&vellip;</td></tr><tr><td class = \"rowNumber\" style = \"font-weight: bold; text-align: right;\">401</td><td style = \"text-align: left;\">Float32[0.0309477, -0.0660747, 0.0157051]</td><td style = \"text-align: left;\">[0.947987 -0.315217 -0.0442588; -0.317607 -0.945938 -0.06579; -0.021128 0.076425 -0.996851]</td><td style = \"text-align: left;\">Float32[-0.0740929, 0.126225, 0.133541]</td><td style = \"text-align: left;\">[0.991587 -0.00599735 -0.129301; 0.00799318 -0.994183 0.107411; -0.129193 -0.107541 -0.985771]</td></tr><tr><td class = \"rowNumber\" style = \"font-weight: bold; text-align: right;\">402</td><td style = \"text-align: left;\">Float32[-0.0525131, 0.0332242, -0.0662737]</td><td style = \"text-align: left;\">[-0.951469 0.306576 -0.0267829; -0.305486 -0.951428 -0.0382563; -0.0372105 -0.0282179 0.998909]</td><td style = \"text-align: left;\">Float32[0.473215, -0.0858977, 0.127877]</td><td style = \"text-align: left;\">[-0.954858 -0.0204591 0.296358; -0.0175243 -0.992009 -0.124946; 0.296546 -0.124499 0.946869]</td></tr><tr><td class = \"rowNumber\" style = \"font-weight: bold; text-align: right;\">403</td><td style = \"text-align: left;\">Float32[0.00097218, -0.0538588, 0.0358015]</td><td style = \"text-align: left;\">[-0.938776 0.113783 -0.325196; 0.123857 0.992246 -0.0103723; 0.321494 -0.050015 -0.94559]</td><td style = \"text-align: left;\">Float32[-0.0301379, 0.471613, -0.0980259]</td><td style = \"text-align: left;\">[-0.958809 0.270217 -0.0875664; 0.22916 0.918007 0.323648; 0.167842 0.29025 -0.942117]</td></tr><tr><td class = \"rowNumber\" style = \"font-weight: bold; text-align: right;\">404</td><td style = \"text-align: left;\">Float32[-0.067468, -0.000927708, -0.0528671]</td><td style = \"text-align: left;\">[0.993899 -0.106387 -0.0291147; 0.107907 0.992531 0.0569036; 0.0228435 -0.0596981 0.997955]</td><td style = \"text-align: left;\">Float32[0.156049, -0.0305531, 0.471956]</td><td style = \"text-align: left;\">[0.918145 -0.279387 0.280984; 0.217669 0.948166 0.23152; -0.331104 -0.151408 0.931368]</td></tr><tr><td class = \"rowNumber\" style = \"font-weight: bold; text-align: right;\">405</td><td style = \"text-align: left;\">Float32[0.973653, -0.0922324, -0.00371769]</td><td style = \"text-align: left;\">[-0.0694761 -0.964145 -0.256122; -0.890681 -0.055679 0.451206; -0.449288 0.259471 -0.854877]</td><td style = \"text-align: left;\">Float32[0.0139511, 0.125194, -0.0471787]</td><td style = \"text-align: left;\">[0.688019 0.487861 -0.537235; 0.1442 -0.817453 -0.557654; -0.711222 0.306207 -0.632773]</td></tr><tr><td class = \"rowNumber\" style = \"font-weight: bold; text-align: right;\">406</td><td style = \"text-align: left;\">Float32[0.0995025, 0.957816, -0.109587]</td><td style = \"text-align: left;\">[0.812287 0.534261 0.234; -0.54404 0.838649 -0.0262443; -0.210265 -0.105987 0.971882]</td><td style = \"text-align: left;\">Float32[-0.998382, 0.0166519, -0.00342369]</td><td style = \"text-align: left;\">[-0.0431006 0.944743 -0.324967; -0.286533 -0.323294 -0.901876; -0.9571 0.0542425 0.284634]</td></tr><tr><td class = \"rowNumber\" style = \"font-weight: bold; text-align: right;\">407</td><td style = \"text-align: left;\">Float32[-0.287347, 0.106221, 0.951372]</td><td style = \"text-align: left;\">[0.710085 0.651334 0.267475; 0.698537 -0.699378 -0.151386; 0.0884633 0.294338 -0.951598]</td><td style = \"text-align: left;\">Float32[-0.00562126, -0.985352, 0.000126645]</td><td style = \"text-align: left;\">[-0.963034 -0.246251 0.109208; -0.0200209 -0.338852 -0.940627; 0.268636 -0.908042 0.321396]</td></tr><tr><td class = \"rowNumber\" style = \"font-weight: bold; text-align: right;\">408</td><td style = \"text-align: left;\">Float32[-0.0411522, -0.233365, 0.136812]</td><td style = \"text-align: left;\">[0.982971 -0.0406701 -0.179202; -0.0270052 -0.996584 0.0780448; -0.181764 -0.0718764 -0.980712]</td><td style = \"text-align: left;\">Float32[0.168953, 0.00605943, -0.985521]</td><td style = \"text-align: left;\">[-0.115437 0.127268 -0.985128; -0.230481 0.961259 0.151192; 0.966205 0.244507 -0.0816324]</td></tr><tr><td class = \"rowNumber\" style = \"font-weight: bold; text-align: right;\">409</td><td style = \"text-align: left;\">Float32[0.398561, -0.049133, -0.14879]</td><td style = \"text-align: left;\">[-0.945463 0.00793954 0.325632; -0.0613246 -0.986164 -0.15401; 0.319904 -0.16558 0.932869]</td><td style = \"text-align: left;\">Float32[-0.0567853, 0.123167, 0.0189231]</td><td style = \"text-align: left;\">[0.9922 0.120322 0.0325957; 0.120232 -0.854602 -0.505173; -0.0329271 0.505152 -0.862402]</td></tr><tr><td class = \"rowNumber\" style = \"font-weight: bold; text-align: right;\">410</td><td style = \"text-align: left;\">Float32[-0.22463, 0.461336, -0.0317303]</td><td style = \"text-align: left;\">[-0.978429 -0.0956367 -0.183112; -0.152454 0.932429 0.327618; 0.139407 0.348467 -0.926896]</td><td style = \"text-align: left;\">Float32[-0.040167, -0.0607058, 0.0845023]</td><td style = \"text-align: left;\">[-0.998463 -0.0424056 -0.0356944; 0.0435816 -0.99851 -0.0328409; -0.0342485 -0.034346 0.998823]</td></tr><tr><td class = \"rowNumber\" style = \"font-weight: bold; text-align: right;\">411</td><td style = \"text-align: left;\">Float32[-0.00713755, -0.218787, 0.46176]</td><td style = \"text-align: left;\">[0.93021 0.101215 0.352796; -0.12031 0.992202 0.0325621; -0.34675 -0.0727344 0.935133]</td><td style = \"text-align: left;\">Float32[-0.0160304, -0.0421229, -0.0584536]</td><td style = \"text-align: left;\">[-0.987295 -0.155933 -0.0305691; -0.154906 0.987361 -0.0334923; 0.0354053 -0.0283314 -0.998971]</td></tr><tr><td class = \"rowNumber\" style = \"font-weight: bold; text-align: right;\">412</td><td style = \"text-align: left;\">Float32[0.0109146, -0.00542538, -0.222161]</td><td style = \"text-align: left;\">[0.965116 -0.173071 -0.196463; -0.260181 -0.717854 -0.645748; -0.0292714 0.674338 -0.737842]</td><td style = \"text-align: left;\">Float32[-0.0799823, -0.0168238, -0.0412254]</td><td style = \"text-align: left;\">[0.989223 0.141525 -0.0375407; -0.145068 0.982082 -0.120292; 0.0198437 0.124442 0.992028]</td></tr></tbody></table></div>"
      ],
      "text/latex": [
       "\\begin{tabular}{r|ccc}\n",
       "\t& head\\_position & head\\_orientation & \\\\\n",
       "\t\\hline\n",
       "\t& Point… & QuatRota… & \\\\\n",
       "\t\\hline\n",
       "\t1 & [-0.0, 1.0, 0.0] & [0.0 0.0 0.0; -0.0 0.0 0.0; 0.0 -0.0 0.0] & $\\dots$ \\\\\n",
       "\t2 & [-0.205649, 0.626851, 0.749204] & [0.869867 -0.462285 0.172117; 0.210676 0.663656 0.717758; -0.446035 -0.588093 0.674685] & $\\dots$ \\\\\n",
       "\t3 & [-0.0588141, -0.205649, 0.626851] & [0.990145 -0.0632864 0.124934; -0.0703684 -0.996106 0.0531071; 0.121086 -0.0613751 -0.990743] & $\\dots$ \\\\\n",
       "\t4 & [0.192555, -0.0588141, -0.205649] & [-0.17743 0.0993626 0.979105; 0.0199419 -0.994323 0.104521; 0.983931 0.0380703 0.174441] & $\\dots$ \\\\\n",
       "\t5 & [-0.772436, 0.192555, -0.0588141] & [-0.911205 -0.365333 -0.190361; -0.251833 0.128298 0.959229; -0.326015 0.921993 -0.208908] & $\\dots$ \\\\\n",
       "\t6 & [-0.00997893, -0.772436, 0.192555] & [0.129532 0.234411 0.963469; -0.381881 0.908499 -0.169695; -0.915089 -0.34595 0.207197] & $\\dots$ \\\\\n",
       "\t7 & [0.0161283, 0.0295338, -0.335227] & [-0.497384 -0.520597 0.693966; 0.261298 0.672885 0.692061; -0.827244 0.525552 -0.198651] & $\\dots$ \\\\\n",
       "\t8 & [-0.992906, 0.0167115, 0.0194246] & [0.573892 0.386857 0.721796; 0.352064 0.679233 -0.643967; -0.739391 0.623686 0.253608] & $\\dots$ \\\\\n",
       "\t9 & [0.0367144, -0.992671, 0.0165761] & [0.148039 -0.983462 -0.104343; 0.988971 0.146731 0.0201497; -0.00450618 -0.106175 0.994337] & $\\dots$ \\\\\n",
       "\t10 & [0.0659582, 0.035612, -0.992839] & [-0.986754 -0.0114197 -0.161824; 0.0104948 0.990936 -0.133923; 0.161887 -0.133848 -0.97769] & $\\dots$ \\\\\n",
       "\t11 & [-0.0987635, 0.0736604, 0.0331073] & [0.998469 -0.0327815 -0.0445551; -0.0530082 -0.797244 -0.601325; -0.0158089 0.602766 -0.797761] & $\\dots$ \\\\\n",
       "\t12 & [-0.023997, -0.152608, 0.0898464] & [-0.99724 0.0464621 -0.0579172; -0.0444716 -0.99839 -0.0351962; -0.0594593 -0.0325233 0.997701] & $\\dots$ \\\\\n",
       "\t13 & [-0.0296031, -0.0215113, -0.162677] & [-0.980209 -0.197926 0.00390543; -0.197926 0.979437 -0.0390829; 0.00391041 -0.0390824 -0.999228] & $\\dots$ \\\\\n",
       "\t14 & [0.0211043, -0.0296982, -0.019357] & [0.979425 0.189973 -0.0681009; -0.201794 0.926226 -0.31841; 0.00258759 0.325601 0.945504] & $\\dots$ \\\\\n",
       "\t15 & [0.59559, 0.0227058, -0.0307096] & [-0.962327 0.0750104 0.261342; -0.265862 -0.460928 -0.846677; 0.0569503 -0.884261 0.463506] & $\\dots$ \\\\\n",
       "\t16 & [-0.201849, 0.594927, 0.0244633] & [-0.468368 0.364626 -0.804785; 0.161952 0.930869 0.327498; 0.868564 0.023053 -0.495041] & $\\dots$ \\\\\n",
       "\t17 & [-0.659601, -0.315595, 0.596975] & [0.906362 -0.379108 0.186507; 0.302857 0.890763 0.33885; -0.294594 -0.250636 0.922169] & $\\dots$ \\\\\n",
       "\t18 & [-0.393181, -0.675797, -0.233639] & [0.991169 -0.100028 0.0870511; -0.105892 -0.992213 0.0655693; 0.0798145 -0.0742083 -0.994044] & $\\dots$ \\\\\n",
       "\t19 & [-0.00394718, -0.412637, -0.673545] & [-0.786767 0.0684321 -0.613444; -0.113387 -0.992946 0.0346566; -0.606746 0.0968234 0.788977] & $\\dots$ \\\\\n",
       "\t20 & [-0.331895, 0.00116285, -0.373476] & [0.13263 -0.925392 0.355047; -0.943525 -0.227598 -0.24075; 0.303596 -0.303065 -0.903317] & $\\dots$ \\\\\n",
       "\t21 & [0.00399332, -0.332382, 0.0107788] & [0.0106709 0.975783 0.218482; -0.657438 -0.157784 0.736803; 0.753433 -0.151501 0.639833] & $\\dots$ \\\\\n",
       "\t22 & [0.0166138, 0.00591418, -0.338244] & [-0.862812 -0.270488 0.427073; 0.247811 0.510035 0.823684; -0.440619 0.816517 -0.373034] & $\\dots$ \\\\\n",
       "\t23 & [-0.981486, 0.0166719, 0.00611886] & [0.551633 0.39654 0.733796; 0.375276 0.667689 -0.64293; -0.744895 0.630038 0.219508] & $\\dots$ \\\\\n",
       "\t24 & [0.020657, -0.981447, 0.0166491] & [0.151146 -0.988058 -0.0299273; 0.988511 0.151062 0.00507079; -0.000489367 -0.0303499 0.999539] & $\\dots$ \\\\\n",
       "\t$\\dots$ & $\\dots$ & $\\dots$ &  \\\\\n",
       "\\end{tabular}\n"
      ],
      "text/plain": [
       "\u001b[1m412×4 DataFrame\u001b[0m\n",
       "\u001b[1m Row \u001b[0m│\u001b[1m head_position                     \u001b[0m\u001b[1m head_orientation                  \u001b[0m\u001b[1m c\u001b[0m ⋯\n",
       "     │\u001b[90m Point…                            \u001b[0m\u001b[90m QuatRotation…                     \u001b[0m\u001b[90m P\u001b[0m ⋯\n",
       "─────┼──────────────────────────────────────────────────────────────────────────\n",
       "   1 │ Float32[-0.0, 1.0, 0.0]            [0.0 0.0 0.0; -0.0 0.0 0.0; 0.0 …  F ⋯\n",
       "   2 │ Float32[-0.205649, 0.626851, 0.7…  [0.869867 -0.462285 0.172117; 0.…  F\n",
       "   3 │ Float32[-0.0588141, -0.205649, 0…  [0.990145 -0.0632864 0.124934; -…  F\n",
       "   4 │ Float32[0.192555, -0.0588141, -0…  [-0.17743 0.0993626 0.979105; 0.…  F\n",
       "   5 │ Float32[-0.772436, 0.192555, -0.…  [-0.911205 -0.365333 -0.190361; …  F ⋯\n",
       "   6 │ Float32[-0.00997893, -0.772436, …  [0.129532 0.234411 0.963469; -0.…  F\n",
       "   7 │ Float32[0.0161283, 0.0295338, -0…  [-0.497384 -0.520597 0.693966; 0…  F\n",
       "   8 │ Float32[-0.992906, 0.0167115, 0.…  [0.573892 0.386857 0.721796; 0.3…  F\n",
       "  ⋮  │                 ⋮                                  ⋮                    ⋱\n",
       " 406 │ Float32[0.0995025, 0.957816, -0.…  [0.812287 0.534261 0.234; -0.544…  F ⋯\n",
       " 407 │ Float32[-0.287347, 0.106221, 0.9…  [0.710085 0.651334 0.267475; 0.6…  F\n",
       " 408 │ Float32[-0.0411522, -0.233365, 0…  [0.982971 -0.0406701 -0.179202; …  F\n",
       " 409 │ Float32[0.398561, -0.049133, -0.…  [-0.945463 0.00793954 0.325632; …  F\n",
       " 410 │ Float32[-0.22463, 0.461336, -0.0…  [-0.978429 -0.0956367 -0.183112;…  F ⋯\n",
       " 411 │ Float32[-0.00713755, -0.218787, …  [0.93021 0.101215 0.352796; -0.1…  F\n",
       " 412 │ Float32[0.0109146, -0.00542538, …  [0.965116 -0.173071 -0.196463; -…  F\n",
       "\u001b[36m                                                  2 columns and 397 rows omitted\u001b[0m"
      ]
     },
     "metadata": {},
     "output_type": "display_data"
    }
   ],
   "source": [
    "# Just look at the first user for now\n",
    "user_num = collect(keys(transforms))[1]\n",
    "\n",
    "# Function to convert the handedness of the rotations from Unity to normal\n",
    "converthandedness(x,y,z,w) = (w,x,z,y)\n",
    "# Functions to create quaternions and Points and name the new column\n",
    "h_post(x) = (; :head_position => Point3f(x...))\n",
    "h_quat(x) = (; :head_orientation => QuatRotation(converthandedness(x...)...))\n",
    "c_post(x) = (; :cntr_position => Point3f(x...))\n",
    "c_quat(x) = (; :cntr_orientation => QuatRotation(converthandedness(x...)...))\n",
    "\n",
    "# New Dict to hold the transformed data\n",
    "condensed_transforms = Dict()\n",
    "# Iterate through all the users\n",
    "for key in keys(transforms)\n",
    "    # Construct the dataframe\n",
    "    condensed_transforms[key] = let \n",
    "        # Create a 3D point column for headset position\n",
    "        h_pos_data = transforms[key][:,Between(:h_pos_x, :h_pos_z)]\n",
    "        h_pos = select(\n",
    "            h_pos_data,\n",
    "            AsTable(:) => ByRow(h_post) => AsTable\n",
    "        )\n",
    "        # Create a quaternion column for headset rotation\n",
    "        h_rot_data = transforms[key][:,Between(:h_rot_x, :h_rot_w)]\n",
    "        h_rot = select(\n",
    "            h_rot_data,\n",
    "            AsTable(:) => ByRow(h_quat) => AsTable\n",
    "        )\n",
    "        # Create a 3D point column for controller position\n",
    "        c_pos_data = transforms[key][:,Between(:c_pos_x, :c_pos_z)]\n",
    "        c_pos = select(\n",
    "            c_pos_data,\n",
    "            AsTable(:) => ByRow(c_post) => AsTable\n",
    "        )\n",
    "        # Create a quaternion column for the controller rotation\n",
    "        c_rot_data = transforms[key][:,Between(:c_rot_x, :c_rot_w)]\n",
    "        c_rot = select(\n",
    "            c_rot_data,\n",
    "            AsTable(:) => ByRow(c_quat) => AsTable\n",
    "        )\n",
    "        # Put all the columns together, and return\n",
    "        hcat(h_pos, h_rot, c_pos, c_rot)\n",
    "    end\n",
    "end\n",
    "\n",
    "condensed_transforms[88]"
   ]
  },
  {
   "attachments": {},
   "cell_type": "markdown",
   "metadata": {},
   "source": [
    "## Save Processed Transforms"
   ]
  },
  {
   "cell_type": "code",
   "execution_count": 28,
   "metadata": {},
   "outputs": [],
   "source": [
    "for key in keys(condensed_transforms)\n",
    "    CSV.write(\"../Data/Dataframes/CondensedTransforms/$(key)_transforms.csv\", condensed_transforms[key])\n",
    "end"
   ]
  }
 ],
 "metadata": {
  "kernelspec": {
   "display_name": "Julia 1.8.4",
   "language": "julia",
   "name": "julia-1.8"
  },
  "language_info": {
   "file_extension": ".jl",
   "mimetype": "application/julia",
   "name": "julia",
   "version": "1.8.4"
  },
  "orig_nbformat": 4
 },
 "nbformat": 4,
 "nbformat_minor": 2
}
