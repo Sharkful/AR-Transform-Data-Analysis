{
 "cells": [
  {
   "cell_type": "code",
   "execution_count": 56,
   "metadata": {},
   "outputs": [
    {
     "data": {
      "text/plain": [
       "true"
      ]
     },
     "metadata": {},
     "output_type": "display_data"
    }
   ],
   "source": [
    "using CSV, DataFrames, GLMakie, GeometryBasics, Rotations, LinearAlgebra\n",
    "Makie.inline!(true)"
   ]
  },
  {
   "attachments": {},
   "cell_type": "markdown",
   "metadata": {},
   "source": [
    "## Load the Dataframes"
   ]
  },
  {
   "cell_type": "code",
   "execution_count": 10,
   "metadata": {},
   "outputs": [],
   "source": [
    "# Create the dict to map user_id to transform dataframe\n",
    "transforms = Dict()\n",
    "\n",
    "# Load the transforms\n",
    "for filename in readdir(raw\"..\\Data\\Dataframes\\Transforms\", join=true)\n",
    "    # Get the dataframe from the file\n",
    "    df = DataFrame(CSV.File(filename))\n",
    "    # Get the id of the user\n",
    "    id = parse(Int, match(r\"(\\d{2,3})_transforms.csv$\", filename)[1])\n",
    "    # Store dataframe into dictionary\n",
    "    transforms[id] = df\n",
    "end"
   ]
  },
  {
   "attachments": {},
   "cell_type": "markdown",
   "metadata": {},
   "source": [
    "## Process data\n",
    "Condense position coords into single Point3f columns\n",
    "\n",
    "Condense quaternion components into single quaternion column, also handle handedness"
   ]
  },
  {
   "cell_type": "code",
   "execution_count": 70,
   "metadata": {},
   "outputs": [
    {
     "data": {
      "text/html": [
       "<div><div style = \"float: left;\"><span>20×4 DataFrame</span></div><div style = \"clear: both;\"></div></div><div class = \"data-frame\" style = \"overflow-x: scroll;\"><table class = \"data-frame\" style = \"margin-bottom: 6px;\"><thead><tr class = \"header\"><th class = \"rowNumber\" style = \"font-weight: bold; text-align: right;\">Row</th><th style = \"text-align: left;\">head_position</th><th style = \"text-align: left;\">head_orientation</th><th style = \"text-align: left;\">cntr_position</th><th style = \"text-align: left;\">cntr_orientation</th></tr><tr class = \"subheader headerLastRow\"><th class = \"rowNumber\" style = \"font-weight: bold; text-align: right;\"></th><th title = \"Point{3, Float32}\" style = \"text-align: left;\">Point…</th><th title = \"QuatRotation{Float64}\" style = \"text-align: left;\">QuatRota…</th><th title = \"Point{3, Float32}\" style = \"text-align: left;\">Point…</th><th title = \"QuatRotation{Float64}\" style = \"text-align: left;\">QuatRota…</th></tr></thead><tbody><tr><td class = \"rowNumber\" style = \"font-weight: bold; text-align: right;\">1</td><td style = \"text-align: left;\">Float32[-0.0, 1.0, 0.0]</td><td style = \"text-align: left;\">[0.0 0.0 0.0; -0.0 0.0 0.0; 0.0 -0.0 0.0]</td><td style = \"text-align: left;\">Float32[3.82827, 3.62827, 0.0]</td><td style = \"text-align: left;\">[0.0 0.0 0.0; -0.0 0.0 0.0; 0.0 -0.0 0.0]</td></tr><tr><td class = \"rowNumber\" style = \"font-weight: bold; text-align: right;\">2</td><td style = \"text-align: left;\">Float32[-0.205649, 0.626851, 0.749204]</td><td style = \"text-align: left;\">[0.869867 -0.462285 0.172117; 0.210676 0.663656 0.717758; -0.446035 -0.588093 0.674685]</td><td style = \"text-align: left;\">Float32[-0.0, 1.0, 0.00109844]</td><td style = \"text-align: left;\">[-0.988832 -0.148602 -0.0113507; 0.136542 -0.872785 -0.468617; 0.0597308 -0.464933 0.883328]</td></tr><tr><td class = \"rowNumber\" style = \"font-weight: bold; text-align: right;\">3</td><td style = \"text-align: left;\">Float32[-0.0588141, -0.205649, 0.626851]</td><td style = \"text-align: left;\">[0.990145 -0.0632864 0.124934; -0.0703684 -0.996106 0.0531071; 0.121086 -0.0613751 -0.990743]</td><td style = \"text-align: left;\">Float32[0.104904, 0.0400868, -0.986772]</td><td style = \"text-align: left;\">[-0.883005 0.00494665 -0.469337; -0.00717949 0.999685 0.0240438; 0.469308 0.0246004 -0.882692]</td></tr><tr><td class = \"rowNumber\" style = \"font-weight: bold; text-align: right;\">4</td><td style = \"text-align: left;\">Float32[0.192555, -0.0588141, -0.205649]</td><td style = \"text-align: left;\">[-0.17743 0.0993626 0.979105; 0.0199419 -0.994323 0.104521; 0.983931 0.0380703 0.174441]</td><td style = \"text-align: left;\">Float32[-0.1181, 0.105502, 0.0403461]</td><td style = \"text-align: left;\">[0.999527 0.0287475 -0.0108849; -0.00367039 -0.239956 -0.970777; -0.0305193 0.970358 -0.239737]</td></tr><tr><td class = \"rowNumber\" style = \"font-weight: bold; text-align: right;\">5</td><td style = \"text-align: left;\">Float32[-0.772436, 0.192555, -0.0588141]</td><td style = \"text-align: left;\">[-0.911205 -0.365333 -0.190361; -0.251833 0.128298 0.959229; -0.326015 0.921993 -0.208908]</td><td style = \"text-align: left;\">Float32[-0.0215214, -0.118967, 0.106582]</td><td style = \"text-align: left;\">[-0.996598 -0.0188537 -0.0802363; 0.0215333 -0.999234 -0.0326639; -0.079559 -0.0342805 0.996241]</td></tr><tr><td class = \"rowNumber\" style = \"font-weight: bold; text-align: right;\">6</td><td style = \"text-align: left;\">Float32[-0.00997893, -0.772436, 0.192555]</td><td style = \"text-align: left;\">[0.129532 0.234411 0.963469; -0.381881 0.908499 -0.169695; -0.915089 -0.34595 0.207197]</td><td style = \"text-align: left;\">Float32[-0.0251266, -0.022235, -0.117863]</td><td style = \"text-align: left;\">[-0.88733 -0.21828 -0.406202; -0.185256 0.975401 -0.119466; 0.422287 -0.0307548 -0.90594]</td></tr><tr><td class = \"rowNumber\" style = \"font-weight: bold; text-align: right;\">7</td><td style = \"text-align: left;\">Float32[0.0161283, 0.0295338, -0.335227]</td><td style = \"text-align: left;\">[-0.497384 -0.520597 0.693966; 0.261298 0.672885 0.692061; -0.827244 0.525552 -0.198651]</td><td style = \"text-align: left;\">Float32[0.0373564, -0.0192985, -0.031811]</td><td style = \"text-align: left;\">[0.990409 0.110732 -0.0826378; -0.124422 0.974844 -0.184927; 0.0600815 0.193435 0.979272]</td></tr><tr><td class = \"rowNumber\" style = \"font-weight: bold; text-align: right;\">8</td><td style = \"text-align: left;\">Float32[-0.992906, 0.0167115, 0.0194246]</td><td style = \"text-align: left;\">[0.573892 0.386857 0.721796; 0.352064 0.679233 -0.643967; -0.739391 0.623686 0.253608]</td><td style = \"text-align: left;\">Float32[0.698916, 0.0364127, -0.0190458]</td><td style = \"text-align: left;\">[-0.694271 0.202438 0.690657; -0.711224 -0.339941 -0.615306; 0.110221 -0.9184 0.37999]</td></tr><tr><td class = \"rowNumber\" style = \"font-weight: bold; text-align: right;\">9</td><td style = \"text-align: left;\">Float32[0.0367144, -0.992671, 0.0165761]</td><td style = \"text-align: left;\">[0.148039 -0.983462 -0.104343; 0.988971 0.146731 0.0201497; -0.00450618 -0.106175 0.994337]</td><td style = \"text-align: left;\">Float32[-0.176112, 0.60044, 0.0344072]</td><td style = \"text-align: left;\">[-0.39079 0.522703 -0.757671; -0.0303908 0.81535 0.57817; 0.919978 0.248969 -0.302745]</td></tr><tr><td class = \"rowNumber\" style = \"font-weight: bold; text-align: right;\">10</td><td style = \"text-align: left;\">Float32[0.0659582, 0.035612, -0.992839]</td><td style = \"text-align: left;\">[-0.986754 -0.0114197 -0.161824; 0.0104948 0.990936 -0.133923; 0.161887 -0.133848 -0.97769]</td><td style = \"text-align: left;\">Float32[-0.643997, -0.204554, 0.621112]</td><td style = \"text-align: left;\">[0.767287 -0.488328 0.415699; 0.125327 0.74989 0.649583; -0.628938 -0.446319 0.636582]</td></tr><tr><td class = \"rowNumber\" style = \"font-weight: bold; text-align: right;\">11</td><td style = \"text-align: left;\">Float32[-0.0987635, 0.0736604, 0.0331073]</td><td style = \"text-align: left;\">[0.998469 -0.0327815 -0.0445551; -0.0530082 -0.797244 -0.601325; -0.0158089 0.602766 -0.797761]</td><td style = \"text-align: left;\">Float32[-0.359793, -0.630104, -0.27919]</td><td style = \"text-align: left;\">[0.993665 -0.0566504 0.0970625; -0.0650738 -0.994173 0.0859365; 0.0916286 -0.0917083 -0.991561]</td></tr><tr><td class = \"rowNumber\" style = \"font-weight: bold; text-align: right;\">12</td><td style = \"text-align: left;\">Float32[-0.023997, -0.152608, 0.0898464]</td><td style = \"text-align: left;\">[-0.99724 0.0464621 -0.0579172; -0.0444716 -0.99839 -0.0351962; -0.0594593 -0.0325233 0.997701]</td><td style = \"text-align: left;\">Float32[0.0126972, -0.408522, -0.659186]</td><td style = \"text-align: left;\">[-0.789097 0.0594926 -0.611381; -0.108853 -0.99309 0.0438582; -0.604547 0.101159 0.79012]</td></tr><tr><td class = \"rowNumber\" style = \"font-weight: bold; text-align: right;\">13</td><td style = \"text-align: left;\">Float32[-0.0296031, -0.0215113, -0.162677]</td><td style = \"text-align: left;\">[-0.980209 -0.197926 0.00390543; -0.197926 0.979437 -0.0390829; 0.00391041 -0.0390824 -0.999228]</td><td style = \"text-align: left;\">Float32[-0.332537, 0.0115229, -0.40929]</td><td style = \"text-align: left;\">[0.0384638 -0.93551 0.3512; -0.955703 -0.137076 -0.260466; 0.291809 -0.325624 -0.899342]</td></tr><tr><td class = \"rowNumber\" style = \"font-weight: bold; text-align: right;\">14</td><td style = \"text-align: left;\">Float32[0.0211043, -0.0296982, -0.019357]</td><td style = \"text-align: left;\">[0.979425 0.189973 -0.0681009; -0.201794 0.926226 -0.31841; 0.00258759 0.325601 0.945504]</td><td style = \"text-align: left;\">Float32[0.0177598, -0.335935, 0.00705827]</td><td style = \"text-align: left;\">[0.0418876 0.953507 0.298445; -0.630629 -0.206456 0.74812; 0.774953 -0.219545 0.592662]</td></tr><tr><td class = \"rowNumber\" style = \"font-weight: bold; text-align: right;\">15</td><td style = \"text-align: left;\">Float32[0.59559, 0.0227058, -0.0307096]</td><td style = \"text-align: left;\">[-0.962327 0.0750104 0.261342; -0.265862 -0.460928 -0.846677; 0.0569503 -0.884261 0.463506]</td><td style = \"text-align: left;\">Float32[0.0166309, 0.0176452, -0.338178]</td><td style = \"text-align: left;\">[-0.877446 -0.256534 0.405314; 0.239295 0.498219 0.833376; -0.415724 0.828232 -0.375773]</td></tr><tr><td class = \"rowNumber\" style = \"font-weight: bold; text-align: right;\">16</td><td style = \"text-align: left;\">Float32[-0.201849, 0.594927, 0.0244633]</td><td style = \"text-align: left;\">[-0.468368 0.364626 -0.804785; 0.161952 0.930869 0.327498; 0.868564 0.023053 -0.495041]</td><td style = \"text-align: left;\">Float32[-0.980491, 0.00010471, 0.0187117]</td><td style = \"text-align: left;\">[0.549377 0.380106 0.744113; 0.378544 0.680691 -0.627187; -0.744909 0.626242 0.230069]</td></tr><tr><td class = \"rowNumber\" style = \"font-weight: bold; text-align: right;\">17</td><td style = \"text-align: left;\">Float32[-0.659601, -0.315595, 0.596975]</td><td style = \"text-align: left;\">[0.906362 -0.379108 0.186507; 0.302857 0.890763 0.33885; -0.294594 -0.250636 0.922169]</td><td style = \"text-align: left;\">Float32[0.0215712, -0.980979, 0.0167687]</td><td style = \"text-align: left;\">[-0.00167733 -0.987595 -0.157014; 0.999266 0.00435552 -0.0380706; 0.0382822 -0.156962 0.986862]</td></tr><tr><td class = \"rowNumber\" style = \"font-weight: bold; text-align: right;\">18</td><td style = \"text-align: left;\">Float32[-0.393181, -0.675797, -0.233639]</td><td style = \"text-align: left;\">[0.991169 -0.100028 0.0870511; -0.105892 -0.992213 0.0655693; 0.0798145 -0.0742083 -0.994044]</td><td style = \"text-align: left;\">Float32[0.0951428, 0.0244217, -0.981793]</td><td style = \"text-align: left;\">[-0.994674 -0.0990102 -0.0286562; -0.095925 0.990926 -0.094144; 0.0377174 -0.0908937 -0.995146]</td></tr><tr><td class = \"rowNumber\" style = \"font-weight: bold; text-align: right;\">19</td><td style = \"text-align: left;\">Float32[-0.00394718, -0.412637, -0.673545]</td><td style = \"text-align: left;\">[-0.786767 0.0684321 -0.613444; -0.113387 -0.992946 0.0346566; -0.606746 0.0968234 0.788977]</td><td style = \"text-align: left;\">Float32[-0.163302, 0.0938986, 0.0249371]</td><td style = \"text-align: left;\">[0.999679 -0.0239604 -0.00829267; -0.0240244 -0.790568 -0.611902; 0.00810553 0.611905 -0.79089]</td></tr><tr><td class = \"rowNumber\" style = \"font-weight: bold; text-align: right;\">20</td><td style = \"text-align: left;\">Float32[-0.331895, 0.00116285, -0.373476]</td><td style = \"text-align: left;\">[0.13263 -0.925392 0.355047; -0.943525 -0.227598 -0.24075; 0.303596 -0.303065 -0.903317]</td><td style = \"text-align: left;\">Float32[-0.0202221, -0.162884, 0.0959728]</td><td style = \"text-align: left;\">[-0.998839 0.0153979 -0.0456358; -0.0153913 -0.999881 -0.000497693; -0.045638 0.000205276 0.998958]</td></tr></tbody></table></div>"
      ],
      "text/latex": [
       "\\begin{tabular}{r|ccc}\n",
       "\t& head\\_position & head\\_orientation & \\\\\n",
       "\t\\hline\n",
       "\t& Point… & QuatRota… & \\\\\n",
       "\t\\hline\n",
       "\t1 & [-0.0, 1.0, 0.0] & [0.0 0.0 0.0; -0.0 0.0 0.0; 0.0 -0.0 0.0] & $\\dots$ \\\\\n",
       "\t2 & [-0.205649, 0.626851, 0.749204] & [0.869867 -0.462285 0.172117; 0.210676 0.663656 0.717758; -0.446035 -0.588093 0.674685] & $\\dots$ \\\\\n",
       "\t3 & [-0.0588141, -0.205649, 0.626851] & [0.990145 -0.0632864 0.124934; -0.0703684 -0.996106 0.0531071; 0.121086 -0.0613751 -0.990743] & $\\dots$ \\\\\n",
       "\t4 & [0.192555, -0.0588141, -0.205649] & [-0.17743 0.0993626 0.979105; 0.0199419 -0.994323 0.104521; 0.983931 0.0380703 0.174441] & $\\dots$ \\\\\n",
       "\t5 & [-0.772436, 0.192555, -0.0588141] & [-0.911205 -0.365333 -0.190361; -0.251833 0.128298 0.959229; -0.326015 0.921993 -0.208908] & $\\dots$ \\\\\n",
       "\t6 & [-0.00997893, -0.772436, 0.192555] & [0.129532 0.234411 0.963469; -0.381881 0.908499 -0.169695; -0.915089 -0.34595 0.207197] & $\\dots$ \\\\\n",
       "\t7 & [0.0161283, 0.0295338, -0.335227] & [-0.497384 -0.520597 0.693966; 0.261298 0.672885 0.692061; -0.827244 0.525552 -0.198651] & $\\dots$ \\\\\n",
       "\t8 & [-0.992906, 0.0167115, 0.0194246] & [0.573892 0.386857 0.721796; 0.352064 0.679233 -0.643967; -0.739391 0.623686 0.253608] & $\\dots$ \\\\\n",
       "\t9 & [0.0367144, -0.992671, 0.0165761] & [0.148039 -0.983462 -0.104343; 0.988971 0.146731 0.0201497; -0.00450618 -0.106175 0.994337] & $\\dots$ \\\\\n",
       "\t10 & [0.0659582, 0.035612, -0.992839] & [-0.986754 -0.0114197 -0.161824; 0.0104948 0.990936 -0.133923; 0.161887 -0.133848 -0.97769] & $\\dots$ \\\\\n",
       "\t11 & [-0.0987635, 0.0736604, 0.0331073] & [0.998469 -0.0327815 -0.0445551; -0.0530082 -0.797244 -0.601325; -0.0158089 0.602766 -0.797761] & $\\dots$ \\\\\n",
       "\t12 & [-0.023997, -0.152608, 0.0898464] & [-0.99724 0.0464621 -0.0579172; -0.0444716 -0.99839 -0.0351962; -0.0594593 -0.0325233 0.997701] & $\\dots$ \\\\\n",
       "\t13 & [-0.0296031, -0.0215113, -0.162677] & [-0.980209 -0.197926 0.00390543; -0.197926 0.979437 -0.0390829; 0.00391041 -0.0390824 -0.999228] & $\\dots$ \\\\\n",
       "\t14 & [0.0211043, -0.0296982, -0.019357] & [0.979425 0.189973 -0.0681009; -0.201794 0.926226 -0.31841; 0.00258759 0.325601 0.945504] & $\\dots$ \\\\\n",
       "\t15 & [0.59559, 0.0227058, -0.0307096] & [-0.962327 0.0750104 0.261342; -0.265862 -0.460928 -0.846677; 0.0569503 -0.884261 0.463506] & $\\dots$ \\\\\n",
       "\t16 & [-0.201849, 0.594927, 0.0244633] & [-0.468368 0.364626 -0.804785; 0.161952 0.930869 0.327498; 0.868564 0.023053 -0.495041] & $\\dots$ \\\\\n",
       "\t17 & [-0.659601, -0.315595, 0.596975] & [0.906362 -0.379108 0.186507; 0.302857 0.890763 0.33885; -0.294594 -0.250636 0.922169] & $\\dots$ \\\\\n",
       "\t18 & [-0.393181, -0.675797, -0.233639] & [0.991169 -0.100028 0.0870511; -0.105892 -0.992213 0.0655693; 0.0798145 -0.0742083 -0.994044] & $\\dots$ \\\\\n",
       "\t19 & [-0.00394718, -0.412637, -0.673545] & [-0.786767 0.0684321 -0.613444; -0.113387 -0.992946 0.0346566; -0.606746 0.0968234 0.788977] & $\\dots$ \\\\\n",
       "\t20 & [-0.331895, 0.00116285, -0.373476] & [0.13263 -0.925392 0.355047; -0.943525 -0.227598 -0.24075; 0.303596 -0.303065 -0.903317] & $\\dots$ \\\\\n",
       "\\end{tabular}\n"
      ],
      "text/plain": [
       "\u001b[1m20×4 DataFrame\u001b[0m\n",
       "\u001b[1m Row \u001b[0m│\u001b[1m head_position                     \u001b[0m\u001b[1m head_orientation                  \u001b[0m\u001b[1m c\u001b[0m ⋯\n",
       "     │\u001b[90m Point…                            \u001b[0m\u001b[90m QuatRotation…                     \u001b[0m\u001b[90m P\u001b[0m ⋯\n",
       "─────┼──────────────────────────────────────────────────────────────────────────\n",
       "   1 │ Float32[-0.0, 1.0, 0.0]            [0.0 0.0 0.0; -0.0 0.0 0.0; 0.0 …  F ⋯\n",
       "   2 │ Float32[-0.205649, 0.626851, 0.7…  [0.869867 -0.462285 0.172117; 0.…  F\n",
       "   3 │ Float32[-0.0588141, -0.205649, 0…  [0.990145 -0.0632864 0.124934; -…  F\n",
       "   4 │ Float32[0.192555, -0.0588141, -0…  [-0.17743 0.0993626 0.979105; 0.…  F\n",
       "   5 │ Float32[-0.772436, 0.192555, -0.…  [-0.911205 -0.365333 -0.190361; …  F ⋯\n",
       "   6 │ Float32[-0.00997893, -0.772436, …  [0.129532 0.234411 0.963469; -0.…  F\n",
       "   7 │ Float32[0.0161283, 0.0295338, -0…  [-0.497384 -0.520597 0.693966; 0…  F\n",
       "   8 │ Float32[-0.992906, 0.0167115, 0.…  [0.573892 0.386857 0.721796; 0.3…  F\n",
       "  ⋮  │                 ⋮                                  ⋮                    ⋱\n",
       "  14 │ Float32[0.0211043, -0.0296982, -…  [0.979425 0.189973 -0.0681009; -…  F ⋯\n",
       "  15 │ Float32[0.59559, 0.0227058, -0.0…  [-0.962327 0.0750104 0.261342; -…  F\n",
       "  16 │ Float32[-0.201849, 0.594927, 0.0…  [-0.468368 0.364626 -0.804785; 0…  F\n",
       "  17 │ Float32[-0.659601, -0.315595, 0.…  [0.906362 -0.379108 0.186507; 0.…  F\n",
       "  18 │ Float32[-0.393181, -0.675797, -0…  [0.991169 -0.100028 0.0870511; -…  F ⋯\n",
       "  19 │ Float32[-0.00394718, -0.412637, …  [-0.786767 0.0684321 -0.613444; …  F\n",
       "  20 │ Float32[-0.331895, 0.00116285, -…  [0.13263 -0.925392 0.355047; -0.…  F\n",
       "\u001b[36m                                                    2 columns and 5 rows omitted\u001b[0m"
      ]
     },
     "metadata": {},
     "output_type": "display_data"
    }
   ],
   "source": [
    "# Just look at the first user for now\n",
    "user_num = collect(keys(transforms))[1]\n",
    "\n",
    "# Function to convert the handedness of the rotations from Unity to normal\n",
    "converthandedness(x,y,z,w) = (w,x,z,y)\n",
    "# Functions to create quaternions and Points and name the new column\n",
    "h_post(x) = (; :head_position => Point3f(x...))\n",
    "h_quat(x) = (; :head_orientation => QuatRotation(converthandedness(x...)...))\n",
    "c_post(x) = (; :cntr_position => Point3f(x...))\n",
    "c_quat(x) = (; :cntr_orientation => QuatRotation(converthandedness(x...)...))\n",
    "\n",
    "# New Dict to hold the transformed data\n",
    "condensed_transforms = Dict()\n",
    "# Iterate through all the users\n",
    "for key in keys(transforms)\n",
    "    # Construct the dataframe\n",
    "    condensed_transforms[key] = let \n",
    "        # Create a 3D point column for headset position\n",
    "        h_pos_data = transforms[key][:,Between(:h_pos_x, :h_pos_z)]\n",
    "        h_pos = select(\n",
    "            h_pos_data,\n",
    "            AsTable(:) => ByRow(h_post) => AsTable\n",
    "        )\n",
    "        # Create a quaternion column for headset rotation\n",
    "        h_rot_data = transforms[key][:,Between(:h_rot_x, :h_rot_w)]\n",
    "        h_rot = select(\n",
    "            h_rot_data,\n",
    "            AsTable(:) => ByRow(h_quat) => AsTable\n",
    "        )\n",
    "        # Create a 3D point column for controller position\n",
    "        c_pos_data = transforms[key][:,Between(:c_pos_x, :c_pos_z)]\n",
    "        c_pos = select(\n",
    "            c_pos_data,\n",
    "            AsTable(:) => ByRow(c_post) => AsTable\n",
    "        )\n",
    "        # Create a quaternion column for the controller rotation\n",
    "        c_rot_data = transforms[key][:,Between(:c_rot_x, :c_rot_w)]\n",
    "        c_rot = select(\n",
    "            c_rot_data,\n",
    "            AsTable(:) => ByRow(c_quat) => AsTable\n",
    "        )\n",
    "        # Put all the columns together, and return\n",
    "        hcat(h_pos, h_rot, c_pos, c_rot)\n",
    "    end\n",
    "end\n",
    "\n",
    "first(condensed_transforms[88], 20)"
   ]
  },
  {
   "attachments": {},
   "cell_type": "markdown",
   "metadata": {},
   "source": [
    "## Save Processed Transforms\n",
    "Skipped for now, it just saves the custom types as strings"
   ]
  },
  {
   "cell_type": "code",
   "execution_count": 12,
   "metadata": {},
   "outputs": [],
   "source": [
    "# for key in keys(condensed_transforms)\n",
    "#     CSV.write(\"../Data/Dataframes/CondensedTransforms/$(key)_transforms.csv\", condensed_transforms[key])\n",
    "# end"
   ]
  },
  {
   "attachments": {},
   "cell_type": "markdown",
   "metadata": {},
   "source": [
    "## Create Animation"
   ]
  },
  {
   "cell_type": "code",
   "execution_count": null,
   "metadata": {},
   "outputs": [],
   "source": [
    "# How to transforms meshes\n",
    "\n",
    "# Make sphere, give center and radius\n",
    "sph = Sphere(Point3f(0,0,0), 1)\n",
    "# convert to mesh\n",
    "mesh = GeometryBasics.mesh(sph)\n",
    "# Get the coordinates\n",
    "coords = coordinates(mesh)\n",
    "# Get the links between vertices making triangle faces\n",
    "faces_ = faces(mesh)\n",
    "# Transform the coords\n",
    "coords .+= 0.1\n",
    "# Reconstruct the mesh\n",
    "mesh = Mesh(coords, faces_)\n",
    "# repeat extracting coords, transforming, recreating mesh"
   ]
  },
  {
   "cell_type": "code",
   "execution_count": 69,
   "metadata": {},
   "outputs": [],
   "source": [
    "let \n",
    "    for key in keys(condensed_transforms)\n",
    "        user_num = key\n",
    "        # The samples were collected 5 times per second,\n",
    "        # a framerate of 20 makes playback 4 times faster\n",
    "        framerate = 5\n",
    "        # What is iterated over, in this case the number of rows in the dataframe\n",
    "        frames = 1:nrow(condensed_transforms[user_num])\n",
    "        # This is the iteration variable to create the animation\n",
    "        # This will iterate all the rows of the transform dataframe\n",
    "        sample = Observable(1)\n",
    "\n",
    "        # create the sphere for the headpose\n",
    "        h_sph = @lift(Sphere(condensed_transforms[user_num][$(sample),:head_position], 0.2))\n",
    "        h_mesh = @lift(GeometryBasics.mesh($(h_sph)))\n",
    "\n",
    "        c_sph = @lift(Sphere(condensed_transforms[user_num][$(sample),:cntr_position], 0.1))\n",
    "        c_mesh = @lift(GeometryBasics.mesh($(c_sph)))\n",
    "\n",
    "        # Create the plot\n",
    "        fig = Figure()\n",
    "        ax = Axis3(\n",
    "            fig[1,1],\n",
    "            limits=(-1,1,-1,1,-1,1),\n",
    "        )\n",
    "        mesh!(ax, h_mesh,\n",
    "            color = :lightblue,\n",
    "            shading=true\n",
    "        )\n",
    "        mesh!(ax, c_mesh,\n",
    "            color = :lightgreen,\n",
    "            shading=true\n",
    "        )\n",
    "\n",
    "        # Create the animation\n",
    "        record(fig, \"../Animations/Headseat_Position_$(user_num).mp4\", frames; framerate=framerate) do idx\n",
    "            sample[] = idx\n",
    "        end\n",
    "    end\n",
    "end"
   ]
  }
 ],
 "metadata": {
  "kernelspec": {
   "display_name": "Julia 1.8.4",
   "language": "julia",
   "name": "julia-1.8"
  },
  "language_info": {
   "file_extension": ".jl",
   "mimetype": "application/julia",
   "name": "julia",
   "version": "1.8.4"
  },
  "orig_nbformat": 4,
  "vscode": {
   "interpreter": {
    "hash": "11938c6bc6919ae2720b4d5011047913343b08a43b18698fd82dedb0d4417594"
   }
  }
 },
 "nbformat": 4,
 "nbformat_minor": 2
}
