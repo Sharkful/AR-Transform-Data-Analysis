{
 "cells": [
  {
   "cell_type": "code",
   "execution_count": 2,
   "metadata": {},
   "outputs": [],
   "source": [
    "using DataFrames, CSV, Statistics"
   ]
  },
  {
   "attachments": {},
   "cell_type": "markdown",
   "metadata": {},
   "source": [
    "# Find Time Spent on Each Module"
   ]
  },
  {
   "cell_type": "code",
   "execution_count": 2,
   "metadata": {},
   "outputs": [
    {
     "data": {
      "text/plain": [
       "app_step_filter (generic function with 1 method)"
      ]
     },
     "metadata": {},
     "output_type": "display_data"
    }
   ],
   "source": [
    "# Function that returns true only on df rows that match changes in module. The STATE START flag also applies to changes in clip, so the demosequence entity is filtered out\n",
    "function app_step_filter(row)\n",
    "    (row.tag == \"STATE START\" && (row.entity == \"LOGINMANAGER\" || row.entity == \"LABMANAGER\")) ||\n",
    "    (row.tag == \"SUBMIT\")\n",
    "end"
   ]
  },
  {
   "attachments": {},
   "cell_type": "markdown",
   "metadata": {},
   "source": [
    "### Create Mapping from phase name to index in array\n",
    "Use a dictionary to link the phase change message to what index in the list the time should be stored at"
   ]
  },
  {
   "cell_type": "code",
   "execution_count": 24,
   "metadata": {},
   "outputs": [
    {
     "name": "stdout",
     "output_type": "stream",
     "text": [
      "Dict{Any, Any}(\"Module 7\" => 14, \"Authentication\" => 4, \"Module 3\" => 10, \"Module 1\" => 8, \"Module 5\" => 12, \"Introduction\" => 1, \"Module 0\" => 7, \"Lab Initiation\" => 6, \"Module 2\" => 9, \"Placement\" => 2, \"Module 6\" => 13, \"Module 4\" => 11, \"Lab Selection\" => 5, \"SUBMIT\" => 15, \"Pin Entry\" => 3)"
     ]
    }
   ],
   "source": [
    "phase_index_mapping = let \n",
    "    # Create a list of the message values of each change in state log, in order\n",
    "    phases = [\"Introduction\", \"Placement\", \"Pin Entry\", \"Authentication\", \"Lab Selection\", \"Lab Initiation\",\n",
    "          \"Module 0\", \"Module 1\", \"Module 2\", \"Module 3\", \"Module 4\", \"Module 5\", \"Module 6\", \"Module 7\",\n",
    "          \"SUBMIT\"]\n",
    "    # iterate through the list, map from string value to list index using the dictionary\n",
    "    mapping = Dict()\n",
    "    for (index, item) in enumerate(phases)\n",
    "        mapping[item] = index\n",
    "    end\n",
    "    # return the generated mapping from the local scope\n",
    "    mapping\n",
    "end\n",
    "show(phase_index_mapping)"
   ]
  },
  {
   "cell_type": "markdown",
   "metadata": {},
   "source": [
    "### Create DataFrame of Time Spent on Each Module"
   ]
  },
  {
   "cell_type": "code",
   "execution_count": 26,
   "metadata": {},
   "outputs": [
    {
     "name": "stdout",
     "output_type": "stream",
     "text": [
      "Sum of individual items: 95.600006, total time from log: 97.5\u001b[1m8×16 DataFrame\u001b[0m\n",
      "\u001b[1m Row \u001b[0m│\u001b[1m User ID \u001b[0m\u001b[1m Introduction \u001b[0m\u001b[1m Placement \u001b[0m\u001b[1m Pin Entry \u001b[0m\u001b[1m Authentication \u001b[0m\u001b[1m Lab Selection \u001b[0m\u001b[1m Lab Initiation \u001b[0m\u001b[1m module0 \u001b[0m\u001b[1m module1 \u001b[0m\u001b[1m module2 \u001b[0m\u001b[1m module3 \u001b[0m\u001b[1m module4 \u001b[0m\u001b[1m module5 \u001b[0m\u001b[1m module6 \u001b[0m\u001b[1m module7 \u001b[0m\u001b[1m Total   \u001b[0m\n",
      "\u001b[1m     \u001b[0m│\u001b[90m UInt8   \u001b[0m\u001b[90m Float32      \u001b[0m\u001b[90m Float32   \u001b[0m\u001b[90m Float32   \u001b[0m\u001b[90m Float32        \u001b[0m\u001b[90m Float32       \u001b[0m\u001b[90m Float32        \u001b[0m\u001b[90m Float32 \u001b[0m\u001b[90m Float32 \u001b[0m\u001b[90m Float32 \u001b[0m\u001b[90m Float32 \u001b[0m\u001b[90m Float32 \u001b[0m\u001b[90m Float32 \u001b[0m\u001b[90m Float32 \u001b[0m\u001b[90m Float32 \u001b[0m\u001b[90m Float32 \u001b[0m\n",
      "─────┼─────────────────────────────────────────────────────────────────────────────────────────────────────────────────────────────────────────────────────────────────────────────\n",
      "   1 │      88          8.68       3.14       5.54             0.0           3.95            9.27     9.98     8.96     6.59     7.45     8.57    11.82     9.39     2.26    97.5\n",
      "   2 │     102          8.68      33.86      45.94             0.0          16.17            6.48   848.87   399.21   385.71    65.58   250.26   405.45    96.35    84.35  2650.48\n",
      "   3 │     103          8.68      32.54      16.74             0.0           2.63           14.85    17.03    11.41   152.37   332.93   335.88   217.0    136.05    45.39  1325.46\n",
      "   4 │     105          8.68      39.1       18.8              0.0           5.33            6.52   477.22   564.31   376.23   237.16   191.83   193.15   117.85    47.47  2286.13\n",
      "   5 │     108          8.68      67.09      34.8              0.0           5.42            6.79  1041.77   675.02   574.58   531.81   521.48   197.31   125.46    48.85  3843.54\n",
      "   6 │     110          8.68      36.03      16.96             0.0          12.35            9.01   498.82   369.53   367.16   287.54   262.27   188.01    87.52    47.27  2192.95\n",
      "   7 │     111          8.67      30.81      10.82             0.0           9.5             6.56    26.27   100.25   342.01   382.88   318.57   504.06   130.94    48.76  3444.1\n",
      "   8 │     112          8.68      28.49      55.59             0.0          33.12            7.26   317.23   387.47    70.46   459.25   471.98   428.02   245.43    47.2   3697.91"
     ]
    }
   ],
   "source": [
    "### Create the empty DataFrame\n",
    "# Using a let block means the intermediate vector names do not persist\n",
    "# And they don't clutter the namespace\n",
    "spent_time_per_section = let \n",
    "    # Create a vector of empty vectors of appropriate types for each column\n",
    "    # (If you don't explicitly create a vectory of type Any, it typepromotes the UInt8 to a Float64)\n",
    "    col_types = push!(Vector{Any}(), UInt8[], fill(Float32[], 15)...)\n",
    "    # Create a vector of names for each column\n",
    "    col_names = [\"User ID\"; \"Introduction\"; \"Placement\"; \"Pin Entry\"; \"Authentication\"; \"Lab Selection\"; \"Lab Initiation\"; [\"module$(x)\" for x in 0:7]; \"Total\"]\n",
    "    # Construct the empty data frame\n",
    "    DataFrame(col_types, col_names)\n",
    "end\n",
    "\n",
    "### Construct the Dataframes\n",
    "# Loop through each user's logs\n",
    "for filename in readdir(raw\"..\\Data\\Dataframes\\Logs\", join=true)\n",
    "    # Get the dataframe from the file\n",
    "    df = DataFrame(CSV.File(filename))\n",
    "    # Get the relevant rows\n",
    "    step_change_logs = filter(app_step_filter, df)\n",
    "    # Get the id of the user (No handling of Guest for now)\n",
    "    id = parse(Int, match(r\"(\\d{2,3})_logs.csv$\", filename)[1])\n",
    "    # Initialize empty list of times for this user\n",
    "    times_vec = Vector{Float64}(undef, 14)\n",
    "    # Value to store the reltime from the last row\n",
    "    last_time = 0\n",
    "    # index into the list matching the phase that was completed\n",
    "    step_index = 1\n",
    "\n",
    "    # Start on the second row, the first row is just the start of the Introduction, and leave out the last row, handled after\n",
    "    for row in eachrow(step_change_logs)[2:end-1,:]\n",
    "        # cur row reltime - last row reltime is the total time spent on last row's state\n",
    "        times_vec[step_index] = row.reltime - last_time\n",
    "        # set the last time to the current row's time \n",
    "        last_time = row.reltime\n",
    "        # use the mapping to find the next index. This handles if a user goes back and forth\n",
    "        step_index = phase_index_mapping[strip(row.message)]\n",
    "    end\n",
    "\n",
    "    # Find the total time spend in the app\n",
    "    total_time = last(step_change_logs).reltime\n",
    "\n",
    "    # Create a tuple holding all the values for this user, append it as a row to the df\n",
    "    push!(spent_time_per_section, tuple(id, times_vec..., total_time))\n",
    "end\n",
    "\n",
    "# Sort the table by user ID, since the dictionary does not supply them in order\n",
    "sort!(spent_time_per_section, \"User ID\")\n",
    "\n",
    "# Quick check to see if the whole is greater than the sum of its parts\n",
    "print(\"Sum of individual items: $(sum(spent_time_per_section[1,2:end-1])), total time from log: $(spent_time_per_section[1,:Total])\")\n",
    "\n",
    "show(first(spent_time_per_section, 8),allcols=true)"
   ]
  },
  {
   "cell_type": "code",
   "execution_count": 31,
   "metadata": {},
   "outputs": [
    {
     "data": {
      "text/plain": [
       "\"../Data/Dataframes/time_spent_per_section.csv\""
      ]
     },
     "metadata": {},
     "output_type": "display_data"
    }
   ],
   "source": [
    "## export the df\n",
    "CSV.write(\"../Data/Dataframes/time_spent_per_section.csv\", spent_time_per_section)"
   ]
  },
  {
   "attachments": {},
   "cell_type": "markdown",
   "metadata": {},
   "source": [
    "### Create Dataframe of Start Times of Each Section"
   ]
  },
  {
   "cell_type": "code",
   "execution_count": 3,
   "metadata": {},
   "outputs": [
    {
     "data": {
      "text/html": [
       "<div class=\"data-frame\"><p>39 rows × 16 columns (omitted printing of 9 columns)</p><table class=\"data-frame\"><thead><tr><th></th><th>User ID</th><th>Introduction</th><th>Placement</th><th>Pin Entry</th><th>Authentication</th><th>Lab Selection</th><th>Lab Initiation</th></tr><tr><th></th><th title=\"Int64\">Int64</th><th title=\"Float64\">Float64</th><th title=\"Float64\">Float64</th><th title=\"Float64\">Float64</th><th title=\"Float64\">Float64</th><th title=\"Float64\">Float64</th><th title=\"Float64\">Float64</th></tr></thead><tbody><tr><th>1</th><td>88</td><td>8.68</td><td>3.14</td><td>5.54</td><td>0.0</td><td>3.95</td><td>9.27</td></tr><tr><th>2</th><td>102</td><td>8.68</td><td>33.86</td><td>45.94</td><td>0.0</td><td>16.17</td><td>6.48</td></tr><tr><th>3</th><td>103</td><td>8.68</td><td>32.54</td><td>16.74</td><td>0.0</td><td>2.63</td><td>14.85</td></tr><tr><th>4</th><td>105</td><td>8.68</td><td>39.1</td><td>18.8</td><td>0.0</td><td>5.33</td><td>6.52</td></tr><tr><th>5</th><td>108</td><td>8.68</td><td>67.09</td><td>34.8</td><td>0.0</td><td>5.42</td><td>6.79</td></tr><tr><th>6</th><td>110</td><td>8.68</td><td>36.03</td><td>16.96</td><td>0.0</td><td>12.35</td><td>9.01</td></tr><tr><th>7</th><td>111</td><td>8.67</td><td>30.81</td><td>10.82</td><td>0.0</td><td>9.5</td><td>6.56</td></tr><tr><th>8</th><td>112</td><td>8.68</td><td>28.49</td><td>55.59</td><td>0.0</td><td>33.12</td><td>7.26</td></tr><tr><th>9</th><td>113</td><td>8.68</td><td>66.94</td><td>23.06</td><td>0.0</td><td>26.91</td><td>6.69</td></tr><tr><th>10</th><td>115</td><td>8.68</td><td>40.06</td><td>41.98</td><td>0.0</td><td>28.19</td><td>7.99</td></tr><tr><th>11</th><td>116</td><td>8.69</td><td>35.93</td><td>13.16</td><td>0.0</td><td>8.11</td><td>7.07</td></tr><tr><th>12</th><td>117</td><td>8.68</td><td>0.74</td><td>54.88</td><td>0.0</td><td>5.48</td><td>7.02</td></tr><tr><th>13</th><td>118</td><td>8.68</td><td>34.05</td><td>26.68</td><td>0.0</td><td>10.37</td><td>6.41</td></tr><tr><th>14</th><td>119</td><td>8.67</td><td>32.2</td><td>119.05</td><td>0.0</td><td>8.19</td><td>7.16</td></tr><tr><th>15</th><td>122</td><td>8.68</td><td>37.83</td><td>34.47</td><td>0.0</td><td>4.37</td><td>6.53</td></tr><tr><th>16</th><td>123</td><td>8.68</td><td>31.23</td><td>23.37</td><td>0.0</td><td>8.08</td><td>12.58</td></tr><tr><th>17</th><td>124</td><td>8.69</td><td>40.93</td><td>37.66</td><td>0.0</td><td>6.55</td><td>8.85</td></tr><tr><th>18</th><td>125</td><td>8.68</td><td>35.68</td><td>13.63</td><td>0.0</td><td>8.48</td><td>8.28</td></tr><tr><th>19</th><td>126</td><td>8.69</td><td>44.81</td><td>22.97</td><td>0.0</td><td>6.05</td><td>7.02</td></tr><tr><th>20</th><td>127</td><td>8.69</td><td>35.67</td><td>25.98</td><td>0.0</td><td>10.2</td><td>8.4</td></tr><tr><th>21</th><td>128</td><td>8.67</td><td>54.89</td><td>26.58</td><td>0.0</td><td>12.5</td><td>6.68</td></tr><tr><th>22</th><td>129</td><td>8.68</td><td>40.05</td><td>19.99</td><td>0.0</td><td>10.84</td><td>6.46</td></tr><tr><th>23</th><td>130</td><td>8.68</td><td>42.71</td><td>25.92</td><td>0.0</td><td>14.77</td><td>6.42</td></tr><tr><th>24</th><td>141</td><td>8.68</td><td>40.51</td><td>10.37</td><td>0.0</td><td>10.13</td><td>8.98</td></tr><tr><th>&vellip;</th><td>&vellip;</td><td>&vellip;</td><td>&vellip;</td><td>&vellip;</td><td>&vellip;</td><td>&vellip;</td><td>&vellip;</td></tr></tbody></table></div>"
      ],
      "text/latex": [
       "\\begin{tabular}{r|cccccccc}\n",
       "\t& User ID & Introduction & Placement & Pin Entry & Authentication & Lab Selection & Lab Initiation & \\\\\n",
       "\t\\hline\n",
       "\t& Int64 & Float64 & Float64 & Float64 & Float64 & Float64 & Float64 & \\\\\n",
       "\t\\hline\n",
       "\t1 & 88 & 8.68 & 3.14 & 5.54 & 0.0 & 3.95 & 9.27 & $\\dots$ \\\\\n",
       "\t2 & 102 & 8.68 & 33.86 & 45.94 & 0.0 & 16.17 & 6.48 & $\\dots$ \\\\\n",
       "\t3 & 103 & 8.68 & 32.54 & 16.74 & 0.0 & 2.63 & 14.85 & $\\dots$ \\\\\n",
       "\t4 & 105 & 8.68 & 39.1 & 18.8 & 0.0 & 5.33 & 6.52 & $\\dots$ \\\\\n",
       "\t5 & 108 & 8.68 & 67.09 & 34.8 & 0.0 & 5.42 & 6.79 & $\\dots$ \\\\\n",
       "\t6 & 110 & 8.68 & 36.03 & 16.96 & 0.0 & 12.35 & 9.01 & $\\dots$ \\\\\n",
       "\t7 & 111 & 8.67 & 30.81 & 10.82 & 0.0 & 9.5 & 6.56 & $\\dots$ \\\\\n",
       "\t8 & 112 & 8.68 & 28.49 & 55.59 & 0.0 & 33.12 & 7.26 & $\\dots$ \\\\\n",
       "\t9 & 113 & 8.68 & 66.94 & 23.06 & 0.0 & 26.91 & 6.69 & $\\dots$ \\\\\n",
       "\t10 & 115 & 8.68 & 40.06 & 41.98 & 0.0 & 28.19 & 7.99 & $\\dots$ \\\\\n",
       "\t11 & 116 & 8.69 & 35.93 & 13.16 & 0.0 & 8.11 & 7.07 & $\\dots$ \\\\\n",
       "\t12 & 117 & 8.68 & 0.74 & 54.88 & 0.0 & 5.48 & 7.02 & $\\dots$ \\\\\n",
       "\t13 & 118 & 8.68 & 34.05 & 26.68 & 0.0 & 10.37 & 6.41 & $\\dots$ \\\\\n",
       "\t14 & 119 & 8.67 & 32.2 & 119.05 & 0.0 & 8.19 & 7.16 & $\\dots$ \\\\\n",
       "\t15 & 122 & 8.68 & 37.83 & 34.47 & 0.0 & 4.37 & 6.53 & $\\dots$ \\\\\n",
       "\t16 & 123 & 8.68 & 31.23 & 23.37 & 0.0 & 8.08 & 12.58 & $\\dots$ \\\\\n",
       "\t17 & 124 & 8.69 & 40.93 & 37.66 & 0.0 & 6.55 & 8.85 & $\\dots$ \\\\\n",
       "\t18 & 125 & 8.68 & 35.68 & 13.63 & 0.0 & 8.48 & 8.28 & $\\dots$ \\\\\n",
       "\t19 & 126 & 8.69 & 44.81 & 22.97 & 0.0 & 6.05 & 7.02 & $\\dots$ \\\\\n",
       "\t20 & 127 & 8.69 & 35.67 & 25.98 & 0.0 & 10.2 & 8.4 & $\\dots$ \\\\\n",
       "\t21 & 128 & 8.67 & 54.89 & 26.58 & 0.0 & 12.5 & 6.68 & $\\dots$ \\\\\n",
       "\t22 & 129 & 8.68 & 40.05 & 19.99 & 0.0 & 10.84 & 6.46 & $\\dots$ \\\\\n",
       "\t23 & 130 & 8.68 & 42.71 & 25.92 & 0.0 & 14.77 & 6.42 & $\\dots$ \\\\\n",
       "\t24 & 141 & 8.68 & 40.51 & 10.37 & 0.0 & 10.13 & 8.98 & $\\dots$ \\\\\n",
       "\t$\\dots$ & $\\dots$ & $\\dots$ & $\\dots$ & $\\dots$ & $\\dots$ & $\\dots$ & $\\dots$ &  \\\\\n",
       "\\end{tabular}\n"
      ],
      "text/plain": [
       "\u001b[1m39×16 DataFrame\u001b[0m\n",
       "\u001b[1m Row \u001b[0m│\u001b[1m User ID \u001b[0m\u001b[1m Introduction \u001b[0m\u001b[1m Placement \u001b[0m\u001b[1m Pin Entry \u001b[0m\u001b[1m Authentication \u001b[0m\u001b[1m Lab Select\u001b[0m ⋯\n",
       "\u001b[1m     \u001b[0m│\u001b[90m Int64   \u001b[0m\u001b[90m Float64      \u001b[0m\u001b[90m Float64   \u001b[0m\u001b[90m Float64   \u001b[0m\u001b[90m Float64        \u001b[0m\u001b[90m Float64   \u001b[0m ⋯\n",
       "─────┼──────────────────────────────────────────────────────────────────────────\n",
       "   1 │      88          8.68       3.14       5.54             0.0           3 ⋯\n",
       "   2 │     102          8.68      33.86      45.94             0.0          16\n",
       "   3 │     103          8.68      32.54      16.74             0.0           2\n",
       "   4 │     105          8.68      39.1       18.8              0.0           5\n",
       "   5 │     108          8.68      67.09      34.8              0.0           5 ⋯\n",
       "   6 │     110          8.68      36.03      16.96             0.0          12\n",
       "   7 │     111          8.67      30.81      10.82             0.0           9\n",
       "   8 │     112          8.68      28.49      55.59             0.0          33\n",
       "  ⋮  │    ⋮          ⋮            ⋮          ⋮            ⋮               ⋮    ⋱\n",
       "  33 │     159          8.69      43.88      25.71             0.0           6 ⋯\n",
       "  34 │     163          8.68      28.49      26.55             0.0           4\n",
       "  35 │     168          8.68     187.5       10.23             0.0           3\n",
       "  36 │     170          8.68      58.53      31.41             0.0          12\n",
       "  37 │     172          8.67      39.2       22.04             0.0           6 ⋯\n",
       "  38 │     174          8.67      73.38      44.78             0.0          16\n",
       "  39 │     175          8.68      40.94      20.66             0.0          22\n",
       "\u001b[36m                                                  11 columns and 24 rows omitted\u001b[0m"
      ]
     },
     "metadata": {},
     "output_type": "display_data"
    }
   ],
   "source": [
    "# If spent_time_per_section isn't defined, read in the df from the csv file\n",
    "if !@isdefined spent_time_per_section\n",
    "    spent_time_per_section = DataFrame(CSV.File(\"../Data/Dataframes/time_spent_per_section.csv\"))\n",
    "end"
   ]
  },
  {
   "cell_type": "code",
   "execution_count": 29,
   "metadata": {},
   "outputs": [
    {
     "name": "stdout",
     "output_type": "stream",
     "text": [
      "\u001b[1m39×16 DataFrame\u001b[0m\n",
      "\u001b[1m Row \u001b[0m│\u001b[1m User ID \u001b[0m\u001b[1m Introduction \u001b[0m\u001b[1m Placement \u001b[0m\u001b[1m Pin Entry \u001b[0m\u001b[1m Authentication \u001b[0m\u001b[1m Lab Selection \u001b[0m\u001b[1m Lab Initiation \u001b[0m\u001b[1m module0 \u001b[0m\u001b[1m module1 \u001b[0m\u001b[1m module2 \u001b[0m\u001b[1m module3 \u001b[0m\u001b[1m module4 \u001b[0m\u001b[1m module5 \u001b[0m\u001b[1m module6 \u001b[0m\u001b[1m module7 \u001b[0m\u001b[1m Submit  \u001b[0m\n",
      "\u001b[1m     \u001b[0m│\u001b[90m UInt8   \u001b[0m\u001b[90m Float32      \u001b[0m\u001b[90m Float32   \u001b[0m\u001b[90m Float32   \u001b[0m\u001b[90m Float32        \u001b[0m\u001b[90m Float32       \u001b[0m\u001b[90m Float32        \u001b[0m\u001b[90m Float32 \u001b[0m\u001b[90m Float32 \u001b[0m\u001b[90m Float32 \u001b[0m\u001b[90m Float32 \u001b[0m\u001b[90m Float32 \u001b[0m\u001b[90m Float32 \u001b[0m\u001b[90m Float32 \u001b[0m\u001b[90m Float32 \u001b[0m\u001b[90m Float32 \u001b[0m\n",
      "─────┼─────────────────────────────────────────────────────────────────────────────────────────────────────────────────────────────────────────────────────────────────────────────\n",
      "   1 │      88           0.0       8.68      11.82           17.36          17.36           21.31    30.58    40.56    49.52    56.11    63.56    72.13    83.95    93.34    97.5\n",
      "   2 │     102           0.0       8.68      42.54           88.48          88.48          104.65   111.13   960.0   1359.21  1744.92  1810.5   2060.76  2466.21  2562.56  2650.48\n",
      "   3 │     103           0.0       8.68      41.22           57.96          57.96           60.59    75.44    92.47   103.88   256.25   589.18   925.06  1142.06  1278.11  1325.46\n",
      "   4 │     105           0.0       8.68      47.78           66.58          66.58           71.91    78.43   555.65  1119.96  1496.19  1733.35  1925.18  2118.33  2236.18  2286.13\n",
      "   5 │     108           0.0       8.68      75.77          110.57         110.57          115.99   122.78  1164.55  1839.57  2414.15  2945.96  3467.44  3664.75  3790.21  3843.54\n",
      "   6 │     110           0.0       8.68      44.71           61.67          61.67           74.02    83.03   581.85   951.38  1318.54  1606.08  1868.35  2056.36  2143.88  2192.95\n",
      "   7 │     111           0.0       8.67      39.48           50.3           50.3            59.8     66.36    92.63   192.88   534.89   917.77  1236.34  1740.4   1871.34  3444.1\n",
      "   8 │     112           0.0       8.68      37.17           92.76          92.76          125.88   133.14   450.37   837.84   908.3   1367.55  1839.53  2267.55  2512.98  3697.91\n",
      "  ⋮  │    ⋮          ⋮            ⋮          ⋮            ⋮               ⋮              ⋮            ⋮        ⋮        ⋮        ⋮        ⋮        ⋮        ⋮        ⋮        ⋮\n",
      "  33 │     159           0.0       8.69      52.57           78.28          78.28           84.44    94.07   822.86  1072.66  1480.69  1899.66  2414.07  2880.96  3171.13  3251.31\n",
      "  34 │     163           0.0       8.68      37.17           63.72          63.72           67.72    77.27   622.46   987.18  1184.77  1805.34  1926.22  2118.42  2251.85  2881.12\n",
      "  35 │     168           0.0       8.68     196.18          206.41         206.41          210.15   219.34   797.93  1604.07  1755.03  2087.18  2446.08  2614.29  3195.49  3200.86\n",
      "  36 │     170           0.0       8.68      67.21           98.62          98.62          111.17   120.25   704.06  1356.94  1517.95  1885.35  2195.37  2425.22  2531.82  2628.08\n",
      "  37 │     172           0.0       8.67      47.87           69.91          69.91           76.75    85.79   579.58  1297.34  1689.35  2041.34  2375.35  2608.4   2654.55  2711.52\n",
      "  38 │     174           0.0       8.67      82.05          126.83         126.83          143.04   152.16  1236.7   1560.18  1830.32  2455.45  2646.96  2969.54  3107.32  3146.78\n",
      "  39 │     175           0.0       8.68      49.62           70.28          70.28           93.26   102.5   1084.34  1360.64  1669.93  2027.26  2486.56  2910.46  3051.41  3466.61\n",
      "\u001b[36m                                                                                                                                                                    24 rows omitted\u001b[0m"
     ]
    }
   ],
   "source": [
    "# Define a function that takes a named tuple of the row of times spent per sections\n",
    "# and converts it to the start time of each section, converts it to a named tuple with their column names\n",
    "find_start_times(x) = (; zip(keys(x), [0 + sum(collect(x)[1:i], init=Float32(0)) for i in 0:length(x)-1])...)\n",
    "\n",
    "start_times_per_section = select(\n",
    "    spent_time_per_section,\n",
    "    \"User ID\",\n",
    "    AsTable(Between(\"Introduction\",\"module7\")) => ByRow(find_start_times) => AsTable,\n",
    "    renamecols=false\n",
    ")\n",
    "start_times_per_section[:,\"Submit\"] = spent_time_per_section[:,\"Total\"]\n",
    "\n",
    "show(start_times_per_section, allcols=true)"
   ]
  },
  {
   "cell_type": "code",
   "execution_count": 30,
   "metadata": {},
   "outputs": [
    {
     "data": {
      "text/plain": [
       "\"../Data/Dataframes/start_time_per_section.csv\""
      ]
     },
     "metadata": {},
     "output_type": "display_data"
    }
   ],
   "source": [
    "# Export CSV\n",
    "CSV.write(\"../Data/Dataframes/start_time_per_section.csv\", start_times_per_section)"
   ]
  },
  {
   "attachments": {},
   "cell_type": "markdown",
   "metadata": {},
   "source": [
    "### Collect when users spend more than 75% more time than average, and when they spend less than 75% less time than average on a step"
   ]
  },
  {
   "cell_type": "code",
   "execution_count": 4,
   "metadata": {},
   "outputs": [],
   "source": [
    "# If spent_time_per_section isn't defined, read in the df from the csv file\n",
    "if !@isdefined spent_time_per_section\n",
    "    spent_time_per_section = DataFrame(CSV.File(\"../Data/Dataframes/time_spent_per_section.csv\"))\n",
    "end\n"
   ]
  },
  {
   "cell_type": "code",
   "execution_count": 36,
   "metadata": {},
   "outputs": [
    {
     "data": {
      "text/plain": [
       "(\u001b[1m18×4 DataFrame\u001b[0m\n",
       "\u001b[1m Row \u001b[0m│\u001b[1m User ID \u001b[0m\u001b[1m Module    \u001b[0m\u001b[1m Time on Module \u001b[0m\u001b[1m Average  \u001b[0m\n",
       "\u001b[1m     \u001b[0m│\u001b[90m UInt8   \u001b[0m\u001b[90m String    \u001b[0m\u001b[90m Float32        \u001b[0m\u001b[90m Float32  \u001b[0m\n",
       "─────┼──────────────────────────────────────────────\n",
       "   1 │      88  Placement            3.14   42.9872\n",
       "   2 │      88  Pin Entry            5.54   30.1177\n",
       "   3 │      88  module0              9.98  618.564\n",
       "   4 │      88  module1              8.96  461.963\n",
       "   5 │      88  module2              6.59  341.219\n",
       "   6 │      88  module3              7.45  348.642\n",
       "   7 │      88  module4              8.57  326.588\n",
       "   8 │     102  module3             65.58  348.642\n",
       "  ⋮  │    ⋮         ⋮            ⋮            ⋮\n",
       "  12 │     111  module1            100.25  461.963\n",
       "  13 │     112  module2             70.46  341.219\n",
       "  14 │     117  Placement            0.74   42.9872\n",
       "  15 │     122  module1             68.03  461.963\n",
       "  16 │     128  module2             40.43  341.219\n",
       "  17 │     145  module3             77.63  348.642\n",
       "  18 │     151  module3             10.26  348.642\n",
       "\u001b[36m                                      3 rows omitted\u001b[0m, \u001b[1m21×4 DataFrame\u001b[0m\n",
       "\u001b[1m Row \u001b[0m│\u001b[1m User ID \u001b[0m\u001b[1m Module         \u001b[0m\u001b[1m Time on Module \u001b[0m\u001b[1m Average   \u001b[0m\n",
       "\u001b[1m     \u001b[0m│\u001b[90m UInt8   \u001b[0m\u001b[90m String         \u001b[0m\u001b[90m Float32        \u001b[0m\u001b[90m Float32   \u001b[0m\n",
       "─────┼────────────────────────────────────────────────────\n",
       "   1 │     103  Lab Initiation           14.85    8.43308\n",
       "   2 │     112  Pin Entry                55.59   30.1177\n",
       "   3 │     112  Lab Selection            33.12   10.0597\n",
       "   4 │     113  Lab Selection            26.91   10.0597\n",
       "   5 │     113  module2                 843.5   341.219\n",
       "   6 │     115  Lab Selection            28.19   10.0597\n",
       "   7 │     117  Pin Entry                54.88   30.1177\n",
       "   8 │     117  module3                 714.75  348.642\n",
       "  ⋮  │    ⋮           ⋮               ⋮             ⋮\n",
       "  15 │     152  Placement                83.05   42.9872\n",
       "  16 │     154  module3                 833.31  348.642\n",
       "  17 │     163  module3                 620.57  348.642\n",
       "  18 │     168  Placement               187.5    42.9872\n",
       "  19 │     174  module0                1084.54  618.564\n",
       "  20 │     174  module3                 625.13  348.642\n",
       "  21 │     175  Lab Selection            22.98   10.0597\n",
       "\u001b[36m                                            6 rows omitted\u001b[0m)"
      ]
     },
     "metadata": {},
     "output_type": "display_data"
    }
   ],
   "source": [
    "(below_average, above_average) = let\n",
    "    averages = Vector{Float32}(undef, length(spent_time_per_section[1,2:12]))\n",
    "    # calculate the average time spent on each module9\n",
    "    for (index, col) in enumerate(eachcol(spent_time_per_section[!,2:12]))\n",
    "        averages[index] = mean(col)\n",
    "    end\n",
    "\n",
    "    # go through each user and print flag when they spend significantly above average or below average time on a module.\n",
    "    colnames = names(spent_time_per_section)\n",
    "    low = let \n",
    "        col_types = push!(Vector{Any}(), UInt8[], String[], Float32[], Float32[])\n",
    "        col_names = [\"User ID\"; \"Module\"; \"Time on Module\"; \"Average\"]\n",
    "        DataFrame(col_types, col_names)\n",
    "    end\n",
    "    high = let \n",
    "        col_types = push!(Vector{Any}(), UInt8[], String[], Float32[], Float32[])\n",
    "        col_names = [\"User ID\"; \"Module\"; \"Time on Module\"; \"Average\"]\n",
    "        DataFrame(col_types, col_names)\n",
    "    end\n",
    "    for (uindex,user) in enumerate(eachrow(spent_time_per_section)), (cindex, val) in enumerate(user[2:12])\n",
    "        if val > 1.75*averages[cindex]\n",
    "            push!(high, (user[1], colnames[1+cindex], val, averages[cindex]))\n",
    "        end\n",
    "        if val < 0.25*averages[cindex]\n",
    "            push!(low, (user[1], colnames[1+cindex], val, averages[cindex]))\n",
    "        end\n",
    "    end\n",
    "    low, high\n",
    "end"
   ]
  },
  {
   "cell_type": "code",
   "execution_count": 37,
   "metadata": {},
   "outputs": [
    {
     "data": {
      "text/plain": [
       "\"../Data/Dataframes/spent_time_above_average.csv\""
      ]
     },
     "metadata": {},
     "output_type": "display_data"
    }
   ],
   "source": [
    "# Export CSV\n",
    "CSV.write(\"../Data/Dataframes/spent_time_below_average.csv\", below_average)\n",
    "CSV.write(\"../Data/Dataframes/spent_time_above_average.csv\", above_average)"
   ]
  }
 ],
 "metadata": {
  "kernelspec": {
   "display_name": "Julia 1.8.0",
   "language": "julia",
   "name": "julia-1.8"
  },
  "language_info": {
   "file_extension": ".jl",
   "mimetype": "application/julia",
   "name": "julia",
   "version": "1.8.0"
  },
  "orig_nbformat": 4
 },
 "nbformat": 4,
 "nbformat_minor": 2
}
